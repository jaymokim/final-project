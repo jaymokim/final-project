{
 "cells": [
  {
   "cell_type": "markdown",
   "metadata": {},
   "source": [
    "#### Question 1"
   ]
  },
  {
   "cell_type": "markdown",
   "metadata": {},
   "source": [
    "Algorithm:\n",
    "\n",
    "We have used a Gibbs sampler to estimate the marginal distribution generated from the conditional distributions:\n",
    "\n",
    "$p(x|y) \\propto ye^{-yx}$, $0 < x < B < \\infty$\n",
    "\n",
    "$p(y|x) \\propto xe^{-yx}$, $0 < y < B < \\infty$, where B is a known positive constant.\n",
    "\n",
    "\n",
    "First, we have used initial values of $x$ and $y$ to be random numbers generated from Uniform[0, B].\n",
    "Then, we have created a T x 3 matrix called *chain* filled with zeros, where T = number of iterations.\n",
    "\n",
    "\n",
    "Since the marginal conditional density function of $x|y$, $p(x|y) \\propto ye^{-yx}$ and the range of $x$ is from 0 to B, \n",
    "the cumulative density function of $x|y$, $F(x|y) = \\int_0^x ye^{-yx}\\;{d}x$.\n",
    "\n",
    "Note that the conditional density function of $x|y$ follows the exponential distribution.\n",
    "Then, $F(x|y) = \\int_0^x ye^{-yx}\\;{d}x= 1 - e^{-yx}$.\n",
    "\n",
    "Since the ranges of x and y are 0 to B respectively, so the cumulative function of both x and y are less than 1. Therefore, we need to rescale this by dividing $\\int_0^B xe^{-yx}\\;dx$ and $\\int_0^B xe^{-yx}\\;dy$ respectively. \n",
    "For Inverse Transform Sampling, we have first generated $u$ from Uniform[0, 1] and let $u = \\frac{\\int_0^x xe^{-yx}\\;{d}x}{\\int_o^B xe^{-yx}\\;{d}x} = \\frac{1 - e^{-yx}}{1 - e^{-yB}}$.\n",
    "Solving for $x$, we have $x = -\\frac{1}{y}ln(1 - u(1 - e^{-yB}))$.\n",
    "\n",
    "Similarly, we have generated $v$ from Uniform[0, 1] and used Inverse Transform Sampling.\n",
    "Let $v = \\frac{\\int_0^y xe^{-yx}\\;{d}y}{\\int_o^B xe^{-yx}\\;{d}y} = \\frac{1 - e^{-yx}}{1 - e^{-xB}}$.\n",
    "Solving for $y$, we have $y = -\\frac{l}{x}ln(1 - v(1 - e^{-xB}))$.\n",
    "\n",
    "The first column of *chain* will represent the iteration number.\n",
    "From each iteration of the sampler, we have stored value of $x$ into the second column of *chain* and value of $y$ into the third column of *chain*.\n",
    "\n",
    "Finally, this function returns the matrix *chain* with stored $x$ and $y$ values.\n",
    "\n",
    "Please note that we have not included thinning process in this function.\n",
    "\n",
    "The algorithm is as follows:"
   ]
  },
  {
   "cell_type": "code",
   "execution_count": 1,
   "metadata": {},
   "outputs": [],
   "source": [
    "%matplotlib inline\n",
    "import random, math\n",
    "from math import *\n",
    "from random import *\n",
    "import numpy as np\n",
    "from numpy import *\n",
    "import matplotlib.pyplot as plt\n",
    "from matplotlib.pyplot import *\n",
    "\n",
    "def gibbs(B, T):\n",
    "    x = float(np.random.uniform(0, B, 1))\n",
    "    y = float(np.random.uniform(0, B, 1))\n",
    "    chain = np.zeros((T, 3))\n",
    "    chain[:, 0] = range(1, T + 1)\n",
    "    for i in range(T):\n",
    "        u = float(np.random.uniform(0, 1, 1))\n",
    "        v = float(np.random.uniform(0, 1, 1))\n",
    "        x = -np.log(1 - u * (1 - np.exp(-y * B))) / y\n",
    "        y = -np.log(1 - v * (1 - np.exp(-x * B))) / x\n",
    "        chain[i, 1] = x\n",
    "        chain[i, 2] = y\n",
    "    return(chain)"
   ]
  },
  {
   "cell_type": "markdown",
   "metadata": {},
   "source": [
    "#### Question 2"
   ]
  },
  {
   "cell_type": "markdown",
   "metadata": {},
   "source": [
    "Histograms of values for $x$, for B = 5 and for sample sizes T = 500, 5000, 50000 are as follows:"
   ]
  },
  {
   "cell_type": "code",
   "execution_count": 2,
   "metadata": {},
   "outputs": [
    {
     "data": {
      "image/png": "[encoded data removed]",
      "text/plain": [
       "<Figure size 432x288 with 1 Axes>"
      ]
     },
     "metadata": {},
     "output_type": "display_data"
    },
    {
     "data": {
      "image/png": "[encoded data removed]",
      "text/plain": [
       "<Figure size 432x288 with 1 Axes>"
      ]
     },
     "metadata": {},
     "output_type": "display_data"
    },
    {
     "data": {
      "image/png": "[encoded data removed]",
      "text/plain": [
       "<Figure size 432x288 with 1 Axes>"
      ]
     },
     "metadata": {},
     "output_type": "display_data"
    }
   ],
   "source": [
    "G1 = gibbs(B = 5, T = 500)\n",
    "G2 = gibbs(B = 5, T = 5000)\n",
    "G3 = gibbs(B = 5, T = 50000)\n",
    "\n",
    "xx = G1[:,1]\n",
    "x2 = G2[:,1]\n",
    "x3 = G3[:,1]\n",
    "\n",
    "n,bins,patches = plt.hist(xx, facecolor='blue', alpha=0.5)\n",
    "plt.xlabel('x')\n",
    "plt.ylabel('Frequency')\n",
    "plt.title(r'Histogram of x for T=500')\n",
    "plt.show()\n",
    "\n",
    "n,bins,patches = plt.hist(x2, facecolor='blue', alpha=0.5)\n",
    "plt.xlabel('x')\n",
    "plt.ylabel('Frequency')\n",
    "plt.title(r'Histogram of x for T=5000')\n",
    "plt.show()\n",
    "\n",
    "n,bins,patches = plt.hist(x3, facecolor='blue', alpha=0.5)\n",
    "plt.xlabel('x')\n",
    "plt.ylabel('Frequency')\n",
    "plt.title(r'Histogram of x for T=50000')\n",
    "plt.show()"
   ]
  },
  {
   "cell_type": "markdown",
   "metadata": {},
   "source": [
    "Note that the histograms of x follows exponential distribution.\n",
    "As we increase the number of iteration (T), we get thinner tails."
   ]
  },
  {
   "cell_type": "markdown",
   "metadata": {},
   "source": [
    "#### Question 3"
   ]
  },
  {
   "cell_type": "markdown",
   "metadata": {},
   "source": [
    "An estimate of the expectation of $X$, $\\mathbb{E}_{p(X)}[X]$, by using the 500, 5000, and 50000 samples from the sampler is as follows:"
   ]
  },
  {
   "cell_type": "code",
   "execution_count": 4,
   "metadata": {},
   "outputs": [
    {
     "name": "stdout",
     "output_type": "stream",
     "text": [
      "Estimate of the expectation for T = 500: 1.1659\n",
      "Estimate of the expectation for T = 5000: 1.2091\n",
      "Estimate of the expectation for T = 50000: 1.2772\n"
     ]
    }
   ],
   "source": [
    "print(\"Estimate of the expectation for T = 500:\", round(mean(xx), 4))\n",
    "print(\"Estimate of the expectation for T = 5000:\", round(mean(x2), 4))\n",
    "print(\"Estimate of the expectation for T = 50000:\", round(mean(x3), 4))"
   ]
  }
 ],
 "metadata": {
  "kernelspec": {
   "display_name": "Python 2",
   "language": "python",
   "name": "python2"
  },
  "language_info": {
   "codemirror_mode": {
    "name": "ipython",
    "version": 2
   },
   "file_extension": ".py",
   "mimetype": "text/x-python",
   "name": "python",
   "nbconvert_exporter": "python",
   "pygments_lexer": "ipython2",
   "version": "2.7.15"
  }
 },
 "nbformat": 4,
 "nbformat_minor": 2
}
